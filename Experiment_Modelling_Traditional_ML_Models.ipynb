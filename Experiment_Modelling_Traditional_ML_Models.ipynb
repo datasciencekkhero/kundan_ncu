{
  "cells": [
    {
      "cell_type": "code",
      "execution_count": null,
      "metadata": {
        "id": "K-ufciShoWOZ"
      },
      "outputs": [],
      "source": [
        "import pandas as pd\n",
        "\n",
        "# Load the dataset from Google Drive into a pandas DataFrame\n",
        "df = pd.read_csv('/content/drive/MyDrive/Colab Notebooks/PhD_Thesis_Experiments/sample_complaints_2years_005.csv')"
      ]
    },
    {
      "cell_type": "code",
      "execution_count": null,
      "metadata": {
        "colab": {
          "base_uri": "https://localhost:8080/",
          "height": 206
        },
        "id": "dgYEtjIkpbTb",
        "outputId": "54dd5a79-5233-4403-d9fc-ff84ae9d965a"
      },
      "outputs": [
        {
          "output_type": "execute_result",
          "data": {
            "text/plain": [
              "                        consumer_complaint_narrative          product  \\\n",
              "0  using bread previously known cd supposed matur...  CheckingSavings   \n",
              "1  presented holder huntington bank mi opened set...  CheckingSavings   \n",
              "2  complaint nexbank bank employee purposely foll...  CheckingSavings   \n",
              "3  chase bank month lock cd equal coming maturity...  CheckingSavings   \n",
              "4  since synchrony bank giving runaround giving a...  CheckingSavings   \n",
              "\n",
              "              sub_product  \n",
              "0  cdCertificateOfDeposit  \n",
              "1  cdCertificateOfDeposit  \n",
              "2  cdCertificateOfDeposit  \n",
              "3  cdCertificateOfDeposit  \n",
              "4  cdCertificateOfDeposit  "
            ],
            "text/html": [
              "\n",
              "  <div id=\"df-6585347a-bbe7-492a-8281-4c6588847bc4\" class=\"colab-df-container\">\n",
              "    <div>\n",
              "<style scoped>\n",
              "    .dataframe tbody tr th:only-of-type {\n",
              "        vertical-align: middle;\n",
              "    }\n",
              "\n",
              "    .dataframe tbody tr th {\n",
              "        vertical-align: top;\n",
              "    }\n",
              "\n",
              "    .dataframe thead th {\n",
              "        text-align: right;\n",
              "    }\n",
              "</style>\n",
              "<table border=\"1\" class=\"dataframe\">\n",
              "  <thead>\n",
              "    <tr style=\"text-align: right;\">\n",
              "      <th></th>\n",
              "      <th>consumer_complaint_narrative</th>\n",
              "      <th>product</th>\n",
              "      <th>sub_product</th>\n",
              "    </tr>\n",
              "  </thead>\n",
              "  <tbody>\n",
              "    <tr>\n",
              "      <th>0</th>\n",
              "      <td>using bread previously known cd supposed matur...</td>\n",
              "      <td>CheckingSavings</td>\n",
              "      <td>cdCertificateOfDeposit</td>\n",
              "    </tr>\n",
              "    <tr>\n",
              "      <th>1</th>\n",
              "      <td>presented holder huntington bank mi opened set...</td>\n",
              "      <td>CheckingSavings</td>\n",
              "      <td>cdCertificateOfDeposit</td>\n",
              "    </tr>\n",
              "    <tr>\n",
              "      <th>2</th>\n",
              "      <td>complaint nexbank bank employee purposely foll...</td>\n",
              "      <td>CheckingSavings</td>\n",
              "      <td>cdCertificateOfDeposit</td>\n",
              "    </tr>\n",
              "    <tr>\n",
              "      <th>3</th>\n",
              "      <td>chase bank month lock cd equal coming maturity...</td>\n",
              "      <td>CheckingSavings</td>\n",
              "      <td>cdCertificateOfDeposit</td>\n",
              "    </tr>\n",
              "    <tr>\n",
              "      <th>4</th>\n",
              "      <td>since synchrony bank giving runaround giving a...</td>\n",
              "      <td>CheckingSavings</td>\n",
              "      <td>cdCertificateOfDeposit</td>\n",
              "    </tr>\n",
              "  </tbody>\n",
              "</table>\n",
              "</div>\n",
              "    <div class=\"colab-df-buttons\">\n",
              "\n",
              "  <div class=\"colab-df-container\">\n",
              "    <button class=\"colab-df-convert\" onclick=\"convertToInteractive('df-6585347a-bbe7-492a-8281-4c6588847bc4')\"\n",
              "            title=\"Convert this dataframe to an interactive table.\"\n",
              "            style=\"display:none;\">\n",
              "\n",
              "  <svg xmlns=\"http://www.w3.org/2000/svg\" height=\"24px\" viewBox=\"0 -960 960 960\">\n",
              "    <path d=\"M120-120v-720h720v720H120Zm60-500h600v-160H180v160Zm220 220h160v-160H400v160Zm0 220h160v-160H400v160ZM180-400h160v-160H180v160Zm440 0h160v-160H620v160ZM180-180h160v-160H180v160Zm440 0h160v-160H620v160Z\"/>\n",
              "  </svg>\n",
              "    </button>\n",
              "\n",
              "  <style>\n",
              "    .colab-df-container {\n",
              "      display:flex;\n",
              "      gap: 12px;\n",
              "    }\n",
              "\n",
              "    .colab-df-convert {\n",
              "      background-color: #E8F0FE;\n",
              "      border: none;\n",
              "      border-radius: 50%;\n",
              "      cursor: pointer;\n",
              "      display: none;\n",
              "      fill: #1967D2;\n",
              "      height: 32px;\n",
              "      padding: 0 0 0 0;\n",
              "      width: 32px;\n",
              "    }\n",
              "\n",
              "    .colab-df-convert:hover {\n",
              "      background-color: #E2EBFA;\n",
              "      box-shadow: 0px 1px 2px rgba(60, 64, 67, 0.3), 0px 1px 3px 1px rgba(60, 64, 67, 0.15);\n",
              "      fill: #174EA6;\n",
              "    }\n",
              "\n",
              "    .colab-df-buttons div {\n",
              "      margin-bottom: 4px;\n",
              "    }\n",
              "\n",
              "    [theme=dark] .colab-df-convert {\n",
              "      background-color: #3B4455;\n",
              "      fill: #D2E3FC;\n",
              "    }\n",
              "\n",
              "    [theme=dark] .colab-df-convert:hover {\n",
              "      background-color: #434B5C;\n",
              "      box-shadow: 0px 1px 3px 1px rgba(0, 0, 0, 0.15);\n",
              "      filter: drop-shadow(0px 1px 2px rgba(0, 0, 0, 0.3));\n",
              "      fill: #FFFFFF;\n",
              "    }\n",
              "  </style>\n",
              "\n",
              "    <script>\n",
              "      const buttonEl =\n",
              "        document.querySelector('#df-6585347a-bbe7-492a-8281-4c6588847bc4 button.colab-df-convert');\n",
              "      buttonEl.style.display =\n",
              "        google.colab.kernel.accessAllowed ? 'block' : 'none';\n",
              "\n",
              "      async function convertToInteractive(key) {\n",
              "        const element = document.querySelector('#df-6585347a-bbe7-492a-8281-4c6588847bc4');\n",
              "        const dataTable =\n",
              "          await google.colab.kernel.invokeFunction('convertToInteractive',\n",
              "                                                    [key], {});\n",
              "        if (!dataTable) return;\n",
              "\n",
              "        const docLinkHtml = 'Like what you see? Visit the ' +\n",
              "          '<a target=\"_blank\" href=https://colab.research.google.com/notebooks/data_table.ipynb>data table notebook</a>'\n",
              "          + ' to learn more about interactive tables.';\n",
              "        element.innerHTML = '';\n",
              "        dataTable['output_type'] = 'display_data';\n",
              "        await google.colab.output.renderOutput(dataTable, element);\n",
              "        const docLink = document.createElement('div');\n",
              "        docLink.innerHTML = docLinkHtml;\n",
              "        element.appendChild(docLink);\n",
              "      }\n",
              "    </script>\n",
              "  </div>\n",
              "\n",
              "\n",
              "    <div id=\"df-1a3d265e-c70d-4158-b8b0-087d5b33ecd9\">\n",
              "      <button class=\"colab-df-quickchart\" onclick=\"quickchart('df-1a3d265e-c70d-4158-b8b0-087d5b33ecd9')\"\n",
              "                title=\"Suggest charts\"\n",
              "                style=\"display:none;\">\n",
              "\n",
              "<svg xmlns=\"http://www.w3.org/2000/svg\" height=\"24px\"viewBox=\"0 0 24 24\"\n",
              "     width=\"24px\">\n",
              "    <g>\n",
              "        <path d=\"M19 3H5c-1.1 0-2 .9-2 2v14c0 1.1.9 2 2 2h14c1.1 0 2-.9 2-2V5c0-1.1-.9-2-2-2zM9 17H7v-7h2v7zm4 0h-2V7h2v10zm4 0h-2v-4h2v4z\"/>\n",
              "    </g>\n",
              "</svg>\n",
              "      </button>\n",
              "\n",
              "<style>\n",
              "  .colab-df-quickchart {\n",
              "      --bg-color: #E8F0FE;\n",
              "      --fill-color: #1967D2;\n",
              "      --hover-bg-color: #E2EBFA;\n",
              "      --hover-fill-color: #174EA6;\n",
              "      --disabled-fill-color: #AAA;\n",
              "      --disabled-bg-color: #DDD;\n",
              "  }\n",
              "\n",
              "  [theme=dark] .colab-df-quickchart {\n",
              "      --bg-color: #3B4455;\n",
              "      --fill-color: #D2E3FC;\n",
              "      --hover-bg-color: #434B5C;\n",
              "      --hover-fill-color: #FFFFFF;\n",
              "      --disabled-bg-color: #3B4455;\n",
              "      --disabled-fill-color: #666;\n",
              "  }\n",
              "\n",
              "  .colab-df-quickchart {\n",
              "    background-color: var(--bg-color);\n",
              "    border: none;\n",
              "    border-radius: 50%;\n",
              "    cursor: pointer;\n",
              "    display: none;\n",
              "    fill: var(--fill-color);\n",
              "    height: 32px;\n",
              "    padding: 0;\n",
              "    width: 32px;\n",
              "  }\n",
              "\n",
              "  .colab-df-quickchart:hover {\n",
              "    background-color: var(--hover-bg-color);\n",
              "    box-shadow: 0 1px 2px rgba(60, 64, 67, 0.3), 0 1px 3px 1px rgba(60, 64, 67, 0.15);\n",
              "    fill: var(--button-hover-fill-color);\n",
              "  }\n",
              "\n",
              "  .colab-df-quickchart-complete:disabled,\n",
              "  .colab-df-quickchart-complete:disabled:hover {\n",
              "    background-color: var(--disabled-bg-color);\n",
              "    fill: var(--disabled-fill-color);\n",
              "    box-shadow: none;\n",
              "  }\n",
              "\n",
              "  .colab-df-spinner {\n",
              "    border: 2px solid var(--fill-color);\n",
              "    border-color: transparent;\n",
              "    border-bottom-color: var(--fill-color);\n",
              "    animation:\n",
              "      spin 1s steps(1) infinite;\n",
              "  }\n",
              "\n",
              "  @keyframes spin {\n",
              "    0% {\n",
              "      border-color: transparent;\n",
              "      border-bottom-color: var(--fill-color);\n",
              "      border-left-color: var(--fill-color);\n",
              "    }\n",
              "    20% {\n",
              "      border-color: transparent;\n",
              "      border-left-color: var(--fill-color);\n",
              "      border-top-color: var(--fill-color);\n",
              "    }\n",
              "    30% {\n",
              "      border-color: transparent;\n",
              "      border-left-color: var(--fill-color);\n",
              "      border-top-color: var(--fill-color);\n",
              "      border-right-color: var(--fill-color);\n",
              "    }\n",
              "    40% {\n",
              "      border-color: transparent;\n",
              "      border-right-color: var(--fill-color);\n",
              "      border-top-color: var(--fill-color);\n",
              "    }\n",
              "    60% {\n",
              "      border-color: transparent;\n",
              "      border-right-color: var(--fill-color);\n",
              "    }\n",
              "    80% {\n",
              "      border-color: transparent;\n",
              "      border-right-color: var(--fill-color);\n",
              "      border-bottom-color: var(--fill-color);\n",
              "    }\n",
              "    90% {\n",
              "      border-color: transparent;\n",
              "      border-bottom-color: var(--fill-color);\n",
              "    }\n",
              "  }\n",
              "</style>\n",
              "\n",
              "      <script>\n",
              "        async function quickchart(key) {\n",
              "          const quickchartButtonEl =\n",
              "            document.querySelector('#' + key + ' button');\n",
              "          quickchartButtonEl.disabled = true;  // To prevent multiple clicks.\n",
              "          quickchartButtonEl.classList.add('colab-df-spinner');\n",
              "          try {\n",
              "            const charts = await google.colab.kernel.invokeFunction(\n",
              "                'suggestCharts', [key], {});\n",
              "          } catch (error) {\n",
              "            console.error('Error during call to suggestCharts:', error);\n",
              "          }\n",
              "          quickchartButtonEl.classList.remove('colab-df-spinner');\n",
              "          quickchartButtonEl.classList.add('colab-df-quickchart-complete');\n",
              "        }\n",
              "        (() => {\n",
              "          let quickchartButtonEl =\n",
              "            document.querySelector('#df-1a3d265e-c70d-4158-b8b0-087d5b33ecd9 button');\n",
              "          quickchartButtonEl.style.display =\n",
              "            google.colab.kernel.accessAllowed ? 'block' : 'none';\n",
              "        })();\n",
              "      </script>\n",
              "    </div>\n",
              "\n",
              "    </div>\n",
              "  </div>\n"
            ],
            "application/vnd.google.colaboratory.intrinsic+json": {
              "type": "dataframe",
              "variable_name": "df"
            }
          },
          "metadata": {},
          "execution_count": 2
        }
      ],
      "source": [
        "# Display the first few rows of the DataFrame to understand the data structure\n",
        "df.head()"
      ]
    },
    {
      "cell_type": "code",
      "source": [
        "# Display the shape of the DataFrame (number of rows and columns)\n",
        "df.shape"
      ],
      "metadata": {
        "colab": {
          "base_uri": "https://localhost:8080/"
        },
        "id": "aoBTtfT44OVn",
        "outputId": "50bd6d3a-5ee5-436a-a24b-8d7de19cc231"
      },
      "execution_count": null,
      "outputs": [
        {
          "output_type": "execute_result",
          "data": {
            "text/plain": [
              "(161446, 3)"
            ]
          },
          "metadata": {},
          "execution_count": 3
        }
      ]
    },
    {
      "cell_type": "code",
      "execution_count": null,
      "metadata": {
        "colab": {
          "base_uri": "https://localhost:8080/",
          "height": 429
        },
        "id": "DEDnB4tjpbWQ",
        "outputId": "52d4b102-2872-4a05-8650-fc98369097e4"
      },
      "outputs": [
        {
          "output_type": "display_data",
          "data": {
            "text/plain": [
              "product\n",
              "CreditReporting          119345\n",
              "DebtCollection            12784\n",
              "CheckingSavings            6841\n",
              "MoneyTransfer              6603\n",
              "CreditCard                 6587\n",
              "CreditReportingRepair      2594\n",
              "Mortgage                   2350\n",
              "StudentLoan                1860\n",
              "VehicleLoanLease           1519\n",
              "PaydayLoan                  963\n",
              "Name: count, dtype: int64"
            ],
            "text/html": [
              "<div>\n",
              "<style scoped>\n",
              "    .dataframe tbody tr th:only-of-type {\n",
              "        vertical-align: middle;\n",
              "    }\n",
              "\n",
              "    .dataframe tbody tr th {\n",
              "        vertical-align: top;\n",
              "    }\n",
              "\n",
              "    .dataframe thead th {\n",
              "        text-align: right;\n",
              "    }\n",
              "</style>\n",
              "<table border=\"1\" class=\"dataframe\">\n",
              "  <thead>\n",
              "    <tr style=\"text-align: right;\">\n",
              "      <th></th>\n",
              "      <th>count</th>\n",
              "    </tr>\n",
              "    <tr>\n",
              "      <th>product</th>\n",
              "      <th></th>\n",
              "    </tr>\n",
              "  </thead>\n",
              "  <tbody>\n",
              "    <tr>\n",
              "      <th>CreditReporting</th>\n",
              "      <td>119345</td>\n",
              "    </tr>\n",
              "    <tr>\n",
              "      <th>DebtCollection</th>\n",
              "      <td>12784</td>\n",
              "    </tr>\n",
              "    <tr>\n",
              "      <th>CheckingSavings</th>\n",
              "      <td>6841</td>\n",
              "    </tr>\n",
              "    <tr>\n",
              "      <th>MoneyTransfer</th>\n",
              "      <td>6603</td>\n",
              "    </tr>\n",
              "    <tr>\n",
              "      <th>CreditCard</th>\n",
              "      <td>6587</td>\n",
              "    </tr>\n",
              "    <tr>\n",
              "      <th>CreditReportingRepair</th>\n",
              "      <td>2594</td>\n",
              "    </tr>\n",
              "    <tr>\n",
              "      <th>Mortgage</th>\n",
              "      <td>2350</td>\n",
              "    </tr>\n",
              "    <tr>\n",
              "      <th>StudentLoan</th>\n",
              "      <td>1860</td>\n",
              "    </tr>\n",
              "    <tr>\n",
              "      <th>VehicleLoanLease</th>\n",
              "      <td>1519</td>\n",
              "    </tr>\n",
              "    <tr>\n",
              "      <th>PaydayLoan</th>\n",
              "      <td>963</td>\n",
              "    </tr>\n",
              "  </tbody>\n",
              "</table>\n",
              "</div><br><label><b>dtype:</b> int64</label>"
            ]
          },
          "metadata": {}
        }
      ],
      "source": [
        "# Get the counts of each unique value in the 'product' column\n",
        "product_sample_counts = df['product'].value_counts()\n",
        "\n",
        "# Display the product counts\n",
        "display(product_sample_counts)"
      ]
    },
    {
      "cell_type": "code",
      "execution_count": null,
      "metadata": {
        "id": "-pTBWON178zz"
      },
      "outputs": [],
      "source": []
    },
    {
      "cell_type": "code",
      "execution_count": null,
      "metadata": {
        "colab": {
          "base_uri": "https://localhost:8080/",
          "height": 277
        },
        "id": "dacd4efc",
        "outputId": "7969a5e0-460d-4c2c-97d8-6bf9657ed1af"
      },
      "outputs": [
        {
          "output_type": "display_data",
          "data": {
            "text/plain": [
              "0    CheckingSavings::cdCertificateOfDeposit\n",
              "1    CheckingSavings::cdCertificateOfDeposit\n",
              "2    CheckingSavings::cdCertificateOfDeposit\n",
              "3    CheckingSavings::cdCertificateOfDeposit\n",
              "4    CheckingSavings::cdCertificateOfDeposit\n",
              "Name: hierarchical_label, dtype: object"
            ],
            "text/html": [
              "<div>\n",
              "<style scoped>\n",
              "    .dataframe tbody tr th:only-of-type {\n",
              "        vertical-align: middle;\n",
              "    }\n",
              "\n",
              "    .dataframe tbody tr th {\n",
              "        vertical-align: top;\n",
              "    }\n",
              "\n",
              "    .dataframe thead th {\n",
              "        text-align: right;\n",
              "    }\n",
              "</style>\n",
              "<table border=\"1\" class=\"dataframe\">\n",
              "  <thead>\n",
              "    <tr style=\"text-align: right;\">\n",
              "      <th></th>\n",
              "      <th>hierarchical_label</th>\n",
              "    </tr>\n",
              "  </thead>\n",
              "  <tbody>\n",
              "    <tr>\n",
              "      <th>0</th>\n",
              "      <td>CheckingSavings::cdCertificateOfDeposit</td>\n",
              "    </tr>\n",
              "    <tr>\n",
              "      <th>1</th>\n",
              "      <td>CheckingSavings::cdCertificateOfDeposit</td>\n",
              "    </tr>\n",
              "    <tr>\n",
              "      <th>2</th>\n",
              "      <td>CheckingSavings::cdCertificateOfDeposit</td>\n",
              "    </tr>\n",
              "    <tr>\n",
              "      <th>3</th>\n",
              "      <td>CheckingSavings::cdCertificateOfDeposit</td>\n",
              "    </tr>\n",
              "    <tr>\n",
              "      <th>4</th>\n",
              "      <td>CheckingSavings::cdCertificateOfDeposit</td>\n",
              "    </tr>\n",
              "  </tbody>\n",
              "</table>\n",
              "</div><br><label><b>dtype:</b> object</label>"
            ]
          },
          "metadata": {}
        },
        {
          "output_type": "stream",
          "name": "stdout",
          "text": [
            "\n",
            "Number of unique hierarchical labels: 53\n"
          ]
        }
      ],
      "source": [
        "# Create a new column 'hierarchical_label' by combining 'product' and 'sub_product'\n",
        "# This creates a single label representing the hierarchical classification\n",
        "df['hierarchical_label'] = df['product'] + '::' + df['sub_product'].fillna('None') # Fill NaN sub_products with 'None'\n",
        "\n",
        "# Display the first few hierarchical labels to verify the new column\n",
        "display(df['hierarchical_label'].head())\n",
        "\n",
        "# Get the unique hierarchical labels to see the different categories\n",
        "unique_hierarchical_labels = df['hierarchical_label'].unique()\n",
        "print(\"\\nNumber of unique hierarchical labels:\", len(unique_hierarchical_labels))"
      ]
    },
    {
      "cell_type": "code",
      "execution_count": null,
      "metadata": {
        "colab": {
          "base_uri": "https://localhost:8080/"
        },
        "id": "a5399618",
        "outputId": "adeb7f0f-67b9-4797-dd20-011df0f91415"
      },
      "outputs": [
        {
          "output_type": "stream",
          "name": "stdout",
          "text": [
            "Shape of TF-IDF matrix: (161446, 5000)\n"
          ]
        }
      ],
      "source": [
        "from sklearn.feature_extraction.text import TfidfVectorizer\n",
        "\n",
        "# Handle potential NaN values in the text column by replacing them with an empty string\n",
        "df['consumer_complaint_narrative'] = df['consumer_complaint_narrative'].fillna('')\n",
        "\n",
        "# Initialize TfidfVectorizer\n",
        "tfidf_vectorizer = TfidfVectorizer(max_features=5000) # You can adjust max_features as needed\n",
        "\n",
        "# Fit and transform the text data\n",
        "X = tfidf_vectorizer.fit_transform(df['consumer_complaint_narrative'])\n",
        "\n",
        "# Display the shape of the resulting matrix\n",
        "print(\"Shape of TF-IDF matrix:\", X.shape)"
      ]
    },
    {
      "cell_type": "markdown",
      "source": [
        "### Evaluation Metrics: Hierarchical Precision, Hierarchical Recall, Hierarchical F1-score\n",
        "\n",
        "To evaluate the hierarchical multi-class text classification model developed for categorizing consumer complaints into financial products and sub-products, a two-level hierarchical evaluation framework was implemented. The dataset contains a primary categorical label (“product”) and a secondary categorical label (“sub_product”), representing a parent–child relationship. To capture this hierarchical structure, a combined label (“hierarchical_label”) was constructed by concatenating the product and sub-product fields. The evaluation was conducted at both levels of the hierarchy using weighted precision, recall, and F1-scores to account for class imbalance. Specifically, metrics were first computed independently for the product level and the sub-product level, where sub-product metrics were calculated only for valid non-null sub-product instances. Finally, hierarchical precision, recall, and F1-score were derived by averaging the scores from both levels, ensuring that the evaluation reflected both the model’s ability to correctly classify broad product categories and its precision in identifying corresponding sub-products. This approach provided a balanced and interpretable assessment of the model’s performance in capturing hierarchical relationships among financial complaint categories."
      ],
      "metadata": {
        "id": "zRn42gN4bK2K"
      }
    },
    {
      "cell_type": "code",
      "source": [
        "from sklearn.metrics import precision_score, recall_score, f1_score\n",
        "import numpy as np\n",
        "\n",
        "# Function to split hierarchical labels into product and sub-product\n",
        "def split_hierarchical_label(label):\n",
        "    if '::' in label:\n",
        "        return label.split('::')\n",
        "    else:\n",
        "        return [label, 'None'] # Handle cases with no sub-product\n",
        "\n",
        "# Function to calculate hierarchical metrics\n",
        "def hierarchical_metrics(y_true, y_pred):\n",
        "    product_true = [split_hierarchical_label(label)[0] for label in y_true]\n",
        "    sub_product_true = [split_hierarchical_label(label)[1] for label in y_true]\n",
        "    product_pred = [split_hierarchical_label(label)[0] for label in y_pred]\n",
        "    sub_product_pred = [split_hierarchical_label(label)[1] for label in y_pred]\n",
        "\n",
        "    # Calculate metrics at the product level\n",
        "    product_precision = precision_score(product_true, product_pred, average='weighted', zero_division=0)\n",
        "    product_recall = recall_score(product_true, product_pred, average='weighted', zero_division=0)\n",
        "    product_f1 = f1_score(product_true, product_pred, average='weighted', zero_division=0)\n",
        "\n",
        "    # Calculate metrics at the sub-product level (only for non-None sub-products)\n",
        "    # We need to filter for cases where both true and predicted sub-products are not 'None'\n",
        "    valid_sub_product_true = [sub for i, sub in enumerate(sub_product_true) if sub != 'None' and sub_product_pred[i] != 'None']\n",
        "    valid_sub_product_pred = [sub for i, sub in enumerate(sub_product_pred) if sub != 'None' and sub_product_true[i] != 'None']\n",
        "\n",
        "\n",
        "    sub_product_precision = precision_score(valid_sub_product_true, valid_sub_product_pred, average='weighted', zero_division=0) if valid_sub_product_true else 0\n",
        "    sub_product_recall = recall_score(valid_sub_product_true, valid_sub_product_pred, average='weighted', zero_division=0) if valid_sub_product_true else 0\n",
        "    sub_product_f1 = f1_score(valid_sub_product_true, valid_sub_product_pred, average='weighted', zero_division=0) if valid_sub_product_true else 0\n",
        "\n",
        "\n",
        "    # A simple way to combine scores (can be weighted based on importance)\n",
        "    # Here, we'll just average them\n",
        "    hierarchical_precision = (product_precision + sub_product_precision) / 2\n",
        "    hierarchical_recall = (product_recall + sub_product_recall) / 2\n",
        "    hierarchical_f1 = (product_f1 + sub_product_f1) / 2\n",
        "\n",
        "    return {\n",
        "        'product_precision': product_precision,\n",
        "        'product_recall': product_recall,\n",
        "        'product_f1': product_f1,\n",
        "        'sub_product_precision': sub_product_precision,\n",
        "        'sub_product_recall': sub_product_recall,\n",
        "        'sub_product_f1': sub_product_f1,\n",
        "        'hierarchical_precision': hierarchical_precision,\n",
        "        'hierarchical_recall': hierarchical_recall,\n",
        "        'hierarchical_f1': hierarchical_f1\n",
        "    }\n"
      ],
      "metadata": {
        "id": "00NFwfVX4joG"
      },
      "execution_count": null,
      "outputs": []
    },
    {
      "cell_type": "code",
      "execution_count": null,
      "metadata": {
        "id": "Igr4d7QS78wz"
      },
      "outputs": [],
      "source": [
        "from sklearn.model_selection import train_test_split\n",
        "from sklearn.linear_model import LogisticRegression\n",
        "\n",
        "# Split data into training and testing sets\n",
        "# Using the combined hierarchical labels as the target variable\n",
        "y = df['hierarchical_label']\n",
        "X_train, X_test, y_train, y_test = train_test_split(X, y, test_size=0.2, random_state=42)"
      ]
    },
    {
      "cell_type": "code",
      "execution_count": null,
      "metadata": {
        "colab": {
          "base_uri": "https://localhost:8080/"
        },
        "id": "2e6efea6",
        "outputId": "ccd3ee5f-d26d-4b58-9f53-a588903710b6"
      },
      "outputs": [
        {
          "name": "stdout",
          "output_type": "stream",
          "text": [
            "Logistic Regression model trained successfully.\n"
          ]
        }
      ],
      "source": [
        "\n",
        "\n",
        "# Initialize and train the Logistic Regression model\n",
        "# Increased max_iter for convergence\n",
        "logistic_regression_model = LogisticRegression(max_iter=1000)\n",
        "logistic_regression_model.fit(X_train, y_train)\n",
        "\n",
        "print(\"Logistic Regression model trained successfully.\")"
      ]
    },
    {
      "cell_type": "code",
      "execution_count": null,
      "metadata": {
        "colab": {
          "base_uri": "https://localhost:8080/"
        },
        "id": "VqM-iqUP78tz",
        "outputId": "40b2b5f9-778a-438b-83fe-637cab49fbe6"
      },
      "outputs": [
        {
          "name": "stdout",
          "output_type": "stream",
          "text": [
            "Hierarchical Classification Metrics:\n",
            "product_precision: 0.8799\n",
            "product_recall: 0.8859\n",
            "product_f1: 0.8704\n",
            "sub_product_precision: 0.8524\n",
            "sub_product_recall: 0.8704\n",
            "sub_product_f1: 0.8500\n",
            "hierarchical_precision: 0.8661\n",
            "hierarchical_recall: 0.8781\n",
            "hierarchical_f1: 0.8602\n"
          ]
        }
      ],
      "source": [
        "# Make predictions on the test set\n",
        "y_pred = logistic_regression_model.predict(X_test)\n",
        "\n",
        "# Calculate hierarchical metrics\n",
        "metrics = hierarchical_metrics(y_test, y_pred)\n",
        "\n",
        "# Display the metrics\n",
        "print(\"Hierarchical Classification Metrics:\")\n",
        "for metric, value in metrics.items():\n",
        "    print(f\"{metric}: {value:.4f}\")"
      ]
    },
    {
      "cell_type": "code",
      "execution_count": null,
      "metadata": {
        "id": "wH2zgOWJ78q9"
      },
      "outputs": [],
      "source": []
    },
    {
      "cell_type": "markdown",
      "metadata": {
        "id": "Y8VTS1UuF2nG"
      },
      "source": [
        "## Hierarchical Classification Final Results\n",
        "\n",
        "| Metric Type | Precision | Recall | F1-Score |\n",
        "| :--- | :---: | :---: | :---: |\n",
        "| **Product Level** | 0.8799 | 0.8859 | 0.8704 |\n",
        "| **Sub-Product Level** | 0.8524 | 0.8704 | 0.8500 |\n",
        "| **Overall Hierarchical** | 0.8661 | 0.8781 | 0.8602 |\n",
        "\n",
        "---\n",
        "\n",
        "### Key Performance Indicators:\n",
        "\n",
        "* **Hierarchical F1-Score:** **0.8602**\n",
        "* **Hierarchical Recall:** **0.8602**\n",
        "* **Hierarchical Precision:** **0.8602**\n"
      ]
    },
    {
      "cell_type": "code",
      "execution_count": null,
      "metadata": {
        "id": "wYCosODeMa0o"
      },
      "outputs": [],
      "source": []
    },
    {
      "cell_type": "markdown",
      "metadata": {
        "id": "LGaYLrslFT4d"
      },
      "source": [
        "## Explaination of Metrics: Model Evaluation Metrics for Hierarchical Classification\n",
        "\n",
        "---\n",
        "\n",
        "### Product-level Metrics (Precision, Recall, F1)\n",
        "\n",
        "These metrics evaluate the model's performance in classifying the **primary 'product' category**.\n",
        "\n",
        "* **Product Precision:** Measures the accuracy of the positive predictions at the product level. It tells you what proportion of the predicted products were actually correct.\n",
        "* **Product Recall:** Measures the model's ability to find all the positive instances at the product level. It tells you what proportion of the actual products were correctly identified.\n",
        "* **Product F1-score:** The harmonic mean of product precision and recall. It provides a single score that balances both metrics.\n",
        "\n",
        "---\n",
        "\n",
        "### Sub-product-level Metrics (Precision, Recall, F1)\n",
        "\n",
        "These metrics evaluate the model's performance in classifying the **secondary 'sub\\_product' category**.\n",
        "\n",
        "**Important Note:** The evaluation is only for cases where both the true and predicted sub-products are **not 'None'**. This exclusion is made because the 'None' sub-product often represents cases where a sub-product doesn't exist or wasn't specified, and including it might not be meaningful for sub-product performance evaluation.\n",
        "\n",
        "* **Sub-product Precision:** Measures the accuracy of the positive predictions at the sub-product level (for non-'None' sub-products).\n",
        "* **Sub-product Recall:** Measures the model's ability to find all the positive instances at the sub-product level (for non-'None' sub-products).\n",
        "* **Sub-product F1-score:** The harmonic mean of sub-product precision and recall (for non-'None' sub-products).\n",
        "\n",
        "---\n",
        "\n",
        "## Hierarchical Metrics (Precision, Recall, F1)\n",
        "\n",
        "These metrics are a simple **average** of the corresponding product and sub-product metrics. They provide a single score that attempts to capture the model's performance across **both levels of the hierarchy**.\n",
        "\n",
        "The calculation is as follows:\n",
        "\n",
        "$$\n",
        "\\text{Hierarchical Precision} = \\frac{\\text{Product Precision} + \\text{Sub-product Precision}}{2}\n",
        "$$\n",
        "\n",
        "$$\n",
        "\\text{Hierarchical Recall} = \\frac{\\text{Product Recall} + \\text{Sub-product Recall}}{2}\n",
        "$$\n",
        "\n",
        "$$\n",
        "\\text{Hierarchical F1-score} = \\frac{\\text{Product F1-score} + \\text{Sub-product F1-score}}{2}\n",
        "$$"
      ]
    },
    {
      "cell_type": "code",
      "execution_count": null,
      "metadata": {
        "id": "5dtV-BH978n7"
      },
      "outputs": [],
      "source": []
    },
    {
      "cell_type": "code",
      "execution_count": null,
      "metadata": {
        "id": "FR230_j778kz"
      },
      "outputs": [],
      "source": []
    },
    {
      "cell_type": "code",
      "execution_count": null,
      "metadata": {
        "id": "BBw07KVmGsNc"
      },
      "outputs": [],
      "source": []
    },
    {
      "cell_type": "code",
      "execution_count": null,
      "metadata": {
        "colab": {
          "base_uri": "https://localhost:8080/"
        },
        "id": "51fb0972",
        "outputId": "eb9566aa-6dde-4525-af9e-351e90c3466c"
      },
      "outputs": [
        {
          "name": "stdout",
          "output_type": "stream",
          "text": [
            "Linear SVM model trained successfully.\n"
          ]
        }
      ],
      "source": [
        "from sklearn.svm import LinearSVC\n",
        "\n",
        "# Initialize and train the Linear SVM model\n",
        "# LinearSVC is often preferred for large datasets\n",
        "linear_svm_model = LinearSVC(max_iter=10000) # Increased max_iter for convergence\n",
        "linear_svm_model.fit(X_train, y_train)\n",
        "\n",
        "print(\"Linear SVM model trained successfully.\")"
      ]
    },
    {
      "cell_type": "code",
      "execution_count": null,
      "metadata": {
        "colab": {
          "base_uri": "https://localhost:8080/"
        },
        "id": "g_-0F0xiGsKv",
        "outputId": "04e7a94a-945b-4874-8320-bd59b71f6654"
      },
      "outputs": [
        {
          "name": "stdout",
          "output_type": "stream",
          "text": [
            "Linear SVM Hierarchical Classification Metrics:\n",
            "product_precision: 0.8762\n",
            "product_recall: 0.8858\n",
            "product_f1: 0.8716\n",
            "sub_product_precision: 0.8467\n",
            "sub_product_recall: 0.8692\n",
            "sub_product_f1: 0.8524\n",
            "hierarchical_precision: 0.8614\n",
            "hierarchical_recall: 0.8775\n",
            "hierarchical_f1: 0.8620\n"
          ]
        }
      ],
      "source": [
        "# Make predictions on the test set using the Linear SVM model\n",
        "y_pred_svm = linear_svm_model.predict(X_test)\n",
        "\n",
        "# Calculate hierarchical metrics for the Linear SVM model\n",
        "metrics_svm = hierarchical_metrics(y_test, y_pred_svm)\n",
        "\n",
        "# Display the metrics\n",
        "print(\"Linear SVM Hierarchical Classification Metrics:\")\n",
        "for metric, value in metrics_svm.items():\n",
        "    print(f\"{metric}: {value:.4f}\")"
      ]
    },
    {
      "cell_type": "markdown",
      "metadata": {
        "id": "NAHBpZQyM8Qe"
      },
      "source": [
        "## Hierarchical Classification Final Results: Support Vector Machines (SVM)\n",
        "\n",
        "| Metric Type | Precision | Recall | F1-Score |\n",
        "| :--- | :---: | :---: | :---: |\n",
        "| **Product Level** | 0.8762 | 0.8858 | 0.8716 |\n",
        "| **Sub-Product Level** | 0.8467 | 0.8692 | 0.8524 |\n",
        "| **Overall Hierarchical** | 0.8614 | 0.8775 | 0.8620 |\n",
        "\n",
        "---\n",
        "\n",
        "### Key Performance Indicators:\n",
        "\n",
        "* **Hierarchical F1-Score:** **0.8620**\n",
        "* **Hierarchical Recall:** **0.8775**\n",
        "* **Hierarchical Precision:** **0.8614**\n"
      ]
    },
    {
      "cell_type": "code",
      "execution_count": null,
      "metadata": {
        "id": "Z7P9xs1gGsIL"
      },
      "outputs": [],
      "source": []
    },
    {
      "cell_type": "code",
      "execution_count": null,
      "metadata": {
        "id": "KZkkd8HWGsFr"
      },
      "outputs": [],
      "source": []
    },
    {
      "cell_type": "code",
      "execution_count": null,
      "metadata": {
        "id": "35e46b71"
      },
      "outputs": [],
      "source": []
    },
    {
      "cell_type": "code",
      "execution_count": null,
      "metadata": {
        "colab": {
          "base_uri": "https://localhost:8080/"
        },
        "id": "28c76a76",
        "outputId": "59067133-f9cb-4196-fb3c-eef996cad517"
      },
      "outputs": [
        {
          "name": "stdout",
          "output_type": "stream",
          "text": [
            "Decision Tree model trained successfully.\n"
          ]
        }
      ],
      "source": [
        "from sklearn.tree import DecisionTreeClassifier\n",
        "\n",
        "# Initialize and train the Decision Tree model\n",
        "decision_tree_model = DecisionTreeClassifier(random_state=42)\n",
        "decision_tree_model.fit(X_train, y_train)\n",
        "\n",
        "print(\"Decision Tree model trained successfully.\")"
      ]
    },
    {
      "cell_type": "code",
      "execution_count": null,
      "metadata": {
        "colab": {
          "base_uri": "https://localhost:8080/"
        },
        "id": "J1FH675oGsDD",
        "outputId": "b14643f3-44a7-420f-d859-a24ad56ca8ea"
      },
      "outputs": [
        {
          "name": "stdout",
          "output_type": "stream",
          "text": [
            "Decision Tree Hierarchical Classification Metrics:\n",
            "product_precision: 0.8365\n",
            "product_recall: 0.8436\n",
            "product_f1: 0.8395\n",
            "sub_product_precision: 0.8098\n",
            "sub_product_recall: 0.8201\n",
            "sub_product_f1: 0.8145\n",
            "hierarchical_precision: 0.8231\n",
            "hierarchical_recall: 0.8319\n",
            "hierarchical_f1: 0.8270\n"
          ]
        }
      ],
      "source": [
        "# Make predictions on the test set using the Decision Tree model\n",
        "y_pred_tree = decision_tree_model.predict(X_test)\n",
        "\n",
        "# Calculate hierarchical metrics for the Decision Tree model\n",
        "metrics_tree = hierarchical_metrics(y_test, y_pred_tree)\n",
        "\n",
        "# Display the metrics\n",
        "print(\"Decision Tree Hierarchical Classification Metrics:\")\n",
        "for metric, value in metrics_tree.items():\n",
        "    print(f\"{metric}: {value:.4f}\")"
      ]
    },
    {
      "cell_type": "code",
      "execution_count": null,
      "metadata": {
        "id": "rx7RPZS1GsAN"
      },
      "outputs": [],
      "source": []
    },
    {
      "cell_type": "markdown",
      "metadata": {
        "id": "b15nG8u4Q77R"
      },
      "source": [
        "## Hierarchical Classification Final Results: Decision Tree\n",
        "\n",
        "| Metric Type | Precision | Recall | F1-Score |\n",
        "| :--- | :---: | :---: | :---: |\n",
        "| **Product Level** | 0.8365 | 0.8436 | 0.8395 |\n",
        "| **Sub-Product Level** | 0.8098 | 0.8201 | 0.8145 |\n",
        "| **Overall Hierarchical** | 0.8231 | 0.8319 | 0.8270 |\n",
        "\n",
        "---\n",
        "\n",
        "### Key Performance Indicators:\n",
        "\n",
        "* **Hierarchical F1-Score:** **0.8270**\n",
        "* **Hierarchical Recall:** **0.8319**\n",
        "* **Hierarchical Precision:** **0.8231**\n"
      ]
    },
    {
      "cell_type": "code",
      "execution_count": null,
      "metadata": {
        "id": "hU33Eh0YQ7H6"
      },
      "outputs": [],
      "source": []
    },
    {
      "cell_type": "code",
      "execution_count": null,
      "metadata": {
        "id": "JEe6s0jjQ9jl"
      },
      "outputs": [],
      "source": []
    },
    {
      "cell_type": "code",
      "execution_count": null,
      "metadata": {
        "id": "6d7dd4d9"
      },
      "outputs": [],
      "source": []
    },
    {
      "cell_type": "code",
      "execution_count": null,
      "metadata": {
        "colab": {
          "base_uri": "https://localhost:8080/"
        },
        "id": "c69ef7b8",
        "outputId": "485272a1-6304-47e3-b751-77aa3588a6c8"
      },
      "outputs": [
        {
          "output_type": "stream",
          "name": "stdout",
          "text": [
            "Random Forest model trained successfully.\n"
          ]
        }
      ],
      "source": [
        "from sklearn.ensemble import RandomForestClassifier\n",
        "\n",
        "# Initialize and train the Random Forest model\n",
        "random_forest_model = RandomForestClassifier(random_state=42)\n",
        "random_forest_model.fit(X_train, y_train)\n",
        "\n",
        "print(\"Random Forest model trained successfully.\")"
      ]
    },
    {
      "cell_type": "code",
      "execution_count": null,
      "metadata": {
        "colab": {
          "base_uri": "https://localhost:8080/"
        },
        "id": "8lRiKTyzQ9hF",
        "outputId": "6acf95b7-50fa-4421-c37c-af96357944af"
      },
      "outputs": [
        {
          "output_type": "stream",
          "name": "stdout",
          "text": [
            "Random Forest Hierarchical Classification Metrics:\n",
            "product_precision: 0.8635\n",
            "product_recall: 0.8618\n",
            "product_f1: 0.8379\n",
            "sub_product_precision: 0.8249\n",
            "sub_product_recall: 0.8533\n",
            "sub_product_f1: 0.8173\n",
            "hierarchical_precision: 0.8442\n",
            "hierarchical_recall: 0.8576\n",
            "hierarchical_f1: 0.8276\n"
          ]
        }
      ],
      "source": [
        "# Make predictions on the test set using the Random Forest model\n",
        "y_pred_rf = random_forest_model.predict(X_test)\n",
        "\n",
        "# Calculate hierarchical metrics for the Random Forest model\n",
        "metrics_rf = hierarchical_metrics(y_test, y_pred_rf)\n",
        "\n",
        "# Display the metrics\n",
        "print(\"Random Forest Hierarchical Classification Metrics:\")\n",
        "for metric, value in metrics_rf.items():\n",
        "    print(f\"{metric}: {value:.4f}\")"
      ]
    },
    {
      "cell_type": "markdown",
      "source": [
        "## Hierarchical Classification Final Results: Random Forest\n",
        "\n",
        "| Metric Type | Precision | Recall | F1-Score |\n",
        "| :--- | :---: | :---: | :---: |\n",
        "| **Product Level** | 0.8635 | 0.8618 | 0.8379 |\n",
        "| **Sub-Product Level** | 0.8249 | 0.8533 | 0.8173 |\n",
        "| **Overall Hierarchical** | 0.8442 | 0.8576 | 0.8276 |\n",
        "\n",
        "---\n",
        "\n",
        "### Key Performance Indicators:\n",
        "\n",
        "* **Hierarchical F1-Score:** **0.8276**\n",
        "* **Hierarchical Recall:** **0.8576**\n",
        "* **Hierarchical Precision:** **0.8442**"
      ],
      "metadata": {
        "id": "9KmYyz2a_-hF"
      }
    },
    {
      "cell_type": "markdown",
      "source": [
        "### Testing the Model"
      ],
      "metadata": {
        "id": "tak5NbrbBrLw"
      }
    },
    {
      "cell_type": "code",
      "execution_count": null,
      "metadata": {
        "id": "exsFKWS2Q9eL"
      },
      "outputs": [],
      "source": [
        "# Function to predict product and sub-product for a given text\n",
        "def predict_product_subproduct(complaint_text, model, vectorizer):\n",
        "    # Preprocess the input text\n",
        "    # Ensure the text is a string, even if NaN\n",
        "    complaint_text = str(complaint_text) if pd.isna(complaint_text) else complaint_text\n",
        "\n",
        "    # Vectorize the input text using the trained TF-IDF vectorizer\n",
        "    X_new = vectorizer.transform([complaint_text])\n",
        "\n",
        "    # Predict the hierarchical label using the trained model\n",
        "    predicted_hierarchical_label = model.predict(X_new)[0]\n",
        "\n",
        "    # Split the hierarchical label into product and sub-product\n",
        "    predicted_product, predicted_sub_product = split_hierarchical_label(predicted_hierarchical_label)\n",
        "\n",
        "    return predicted_product, predicted_sub_product\n",
        "\n"
      ]
    },
    {
      "cell_type": "code",
      "execution_count": null,
      "metadata": {
        "id": "JjGfgkgPQ9bb",
        "colab": {
          "base_uri": "https://localhost:8080/"
        },
        "outputId": "a8da82c0-b22e-441a-fa32-f77d70ec8aa0"
      },
      "outputs": [
        {
          "output_type": "stream",
          "name": "stdout",
          "text": [
            "Consumer Complaint: My bank account was charged an overdraft fee that I believe is incorrect.\n",
            "Predicted Product (Random Forest): CheckingSavings\n",
            "Predicted Sub-Product (Random Forest): checkingAccount\n"
          ]
        }
      ],
      "source": [
        "# Example usage:\n",
        "# Replace with your desired consumer complaint text\n",
        "new_complaint = \"My bank account was charged an overdraft fee that I believe is incorrect.\"\n",
        "\n",
        "# Make a prediction using the Random Forest model\n",
        "predicted_product_rf, predicted_sub_product_rf = predict_product_subproduct(new_complaint, random_forest_model, tfidf_vectorizer)\n",
        "\n",
        "print(f\"Consumer Complaint: {new_complaint}\")\n",
        "print(f\"Predicted Product (Random Forest): {predicted_product_rf}\")\n",
        "print(f\"Predicted Sub-Product (Random Forest): {predicted_sub_product_rf}\")"
      ]
    },
    {
      "cell_type": "code",
      "execution_count": null,
      "metadata": {
        "id": "fxfvg5g8Q9WK"
      },
      "outputs": [],
      "source": []
    },
    {
      "cell_type": "markdown",
      "metadata": {
        "id": "effc42ef"
      },
      "source": [
        "## Model Performance Comparison\n",
        "\n",
        "| Metric Type | Logistic Regression | Linear SVM | Decision Tree | Random Forest |\n",
        "| :--- | :---: | :---: | :---: | :---: |\n",
        "| **Product Precision** | 0.8799 | 0.8762 | 0.8365 | 0.8635 |\n",
        "| **Product Recall** | 0.8859 | 0.8858 | 0.8436 | 0.8618 |\n",
        "| **Product F1-Score** | 0.8704 | 0.8716 | 0.8395 | 0.8379 |\n",
        "| **Sub-Product Precision** | 0.8524 | 0.8467 | 0.8098 | 0.8249 |\n",
        "| **Sub-Product Recall** | 0.8704 | 0.8692 | 0.8201 | 0.8533 |\n",
        "| **Sub-Product F1-Score** | 0.8500 | 0.8524 | 0.8145 | 0.8173 |\n",
        "| **Hierarchical Precision** | 0.8661 | 0.8614 | 0.8231 | 0.8442 |\n",
        "| **Hierarchical Recall** | 0.8781 | 0.8775 | 0.8319 | 0.8576 |\n",
        "| **Hierarchical F1-Score** | 0.8602 | 0.8620 | 0.8270 | 0.8276 |"
      ]
    }
  ],
  "metadata": {
    "colab": {
      "provenance": []
    },
    "kernelspec": {
      "display_name": "Python 3",
      "name": "python3"
    },
    "language_info": {
      "name": "python"
    }
  },
  "nbformat": 4,
  "nbformat_minor": 0
}